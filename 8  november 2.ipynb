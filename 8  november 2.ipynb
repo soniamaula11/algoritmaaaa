{
 "cells": [
  {
   "cell_type": "code",
   "execution_count": 5,
   "id": "a7fad883-99c5-4d24-9038-216ece96e71a",
   "metadata": {},
   "outputs": [
    {
     "name": "stdin",
     "output_type": "stream",
     "text": [
      "Angka:  1\n"
     ]
    },
    {
     "name": "stdout",
     "output_type": "stream",
     "text": [
      "1st\n"
     ]
    },
    {
     "name": "stdin",
     "output_type": "stream",
     "text": [
      "Angka:  2\n"
     ]
    },
    {
     "name": "stdout",
     "output_type": "stream",
     "text": [
      "2nd\n"
     ]
    },
    {
     "name": "stdin",
     "output_type": "stream",
     "text": [
      "Angka:  3\n"
     ]
    },
    {
     "name": "stdout",
     "output_type": "stream",
     "text": [
      "3rd\n"
     ]
    },
    {
     "name": "stdin",
     "output_type": "stream",
     "text": [
      "Angka:  4\n"
     ]
    },
    {
     "name": "stdout",
     "output_type": "stream",
     "text": [
      "4th\n"
     ]
    },
    {
     "name": "stdin",
     "output_type": "stream",
     "text": [
      "Angka:  23\n"
     ]
    },
    {
     "name": "stdout",
     "output_type": "stream",
     "text": [
      "23rd\n"
     ]
    },
    {
     "name": "stdin",
     "output_type": "stream",
     "text": [
      "Angka:  21\n"
     ]
    },
    {
     "name": "stdout",
     "output_type": "stream",
     "text": [
      "21st\n"
     ]
    },
    {
     "name": "stdin",
     "output_type": "stream",
     "text": [
      "Angka:  0\n"
     ]
    },
    {
     "name": "stdout",
     "output_type": "stream",
     "text": [
      "0th\n",
      "bye bye :3\n"
     ]
    }
   ],
   "source": [
    "def ordinal(number):\n",
    "  \"\"\"Mengubah angka menjadi bentuk ordinal (1st, 2nd, 3rd, dst.).\"\"\"\n",
    "\n",
    "  if number == 0:\n",
    "      return \"0th\\nbye bye :3\"\n",
    "  elif 11 <= number <= 13:\n",
    "    return str(number) + \"th\"\n",
    "  else:\n",
    "    last_digit = number % 10\n",
    "    if last_digit == 1:\n",
    "      return str(number) + \"st\"\n",
    "    elif last_digit == 2:\n",
    "      return str(number) + \"nd\"\n",
    "    elif last_digit == 3:\n",
    "      return str(number) + \"rd\"\n",
    "    else:\n",
    "      return str(number) + \"th\"\n",
    "\n",
    "\n",
    "while True:\n",
    "  try:\n",
    "    number = int(input(\"Angka: \"))\n",
    "    if number < 0:\n",
    "      print(\"Angka harus lebih besar dari atau sama dengan 0.\")\n",
    "    else:\n",
    "      result = ordinal(number)\n",
    "      print(result)\n",
    "      if result.startswith(\"0th\"):\n",
    "        break\n",
    "  except ValueError:\n",
    "    print(\"Input tidak valid. Masukkan angka.\")"
   ]
  },
  {
   "cell_type": "code",
   "execution_count": null,
   "id": "cd30a666-caf7-4745-915b-acc5b094189d",
   "metadata": {},
   "outputs": [],
   "source": []
  }
 ],
 "metadata": {
  "kernelspec": {
   "display_name": "Python 3 (ipykernel)",
   "language": "python",
   "name": "python3"
  },
  "language_info": {
   "codemirror_mode": {
    "name": "ipython",
    "version": 3
   },
   "file_extension": ".py",
   "mimetype": "text/x-python",
   "name": "python",
   "nbconvert_exporter": "python",
   "pygments_lexer": "ipython3",
   "version": "3.12.4"
  }
 },
 "nbformat": 4,
 "nbformat_minor": 5
}
