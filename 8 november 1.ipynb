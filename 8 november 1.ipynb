{
 "cells": [
  {
   "cell_type": "code",
   "execution_count": 59,
   "id": "6fd0f56e-60ad-4928-8645-6f1ec1e3a6d3",
   "metadata": {},
   "outputs": [
    {
     "name": "stdin",
     "output_type": "stream",
     "text": [
      "Masukkan angka :  5\n"
     ]
    },
    {
     "name": "stdout",
     "output_type": "stream",
     "text": [
      "5.0 adalah bilangan prima\n"
     ]
    }
   ],
   "source": [
    "def bil_prima(bil):\n",
    "    if bil <= 1:\n",
    "        return False\n",
    "    for i in range(2, int(bil**0.5) + 1):\n",
    "        if bil % i == 0:\n",
    "            return False\n",
    "    return True\n",
    "\n",
    "bilangan = float(input(\"Masukkan angka : \"))\n",
    "bilangan_int = int(bilangan)\n",
    "if  bil_prima(bilangan):\n",
    "    print(f\"{bilangan} adalah bilangan prima\")\n",
    "else:\n",
    "    print(f\"{bilangan} adalah bukan bilangan prima\")"
   ]
  },
  {
   "cell_type": "code",
   "execution_count": null,
   "id": "26658e58-3453-4385-bade-82ca2623cb19",
   "metadata": {},
   "outputs": [],
   "source": []
  }
 ],
 "metadata": {
  "kernelspec": {
   "display_name": "Python 3 (ipykernel)",
   "language": "python",
   "name": "python3"
  },
  "language_info": {
   "codemirror_mode": {
    "name": "ipython",
    "version": 3
   },
   "file_extension": ".py",
   "mimetype": "text/x-python",
   "name": "python",
   "nbconvert_exporter": "python",
   "pygments_lexer": "ipython3",
   "version": "3.12.4"
  }
 },
 "nbformat": 4,
 "nbformat_minor": 5
}
